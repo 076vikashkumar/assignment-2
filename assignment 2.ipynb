{
 "cells": [
  {
   "cell_type": "markdown",
   "metadata": {},
   "source": [
    "### Ques 1. Write a Python program to remove duplicates from a list."
   ]
  },
  {
   "cell_type": "code",
   "execution_count": 38,
   "metadata": {},
   "outputs": [
    {
     "name": "stdout",
     "output_type": "stream",
     "text": [
      "[10, 20, 30, 50, 60, 40, 80]\n"
     ]
    }
   ],
   "source": [
    "def remove(duplicate):\n",
    "    b = []\n",
    "    for x in duplicate:\n",
    "        if x not in b:\n",
    "            b.append(x)\n",
    "    return b\n",
    "duplicate = [10,20,30,20,10,50,60,40,80,50,40]\n",
    "print(remove(duplicate))"
   ]
  },
  {
   "cell_type": "markdown",
   "metadata": {},
   "source": [
    "### Ques 2. Write a Python program to combine two dictionary adding values for common keys\n",
    "### d1 = {'a': 100, 'b': 200, 'c':300}\n",
    "### d2 = {'a': 300, 'b': 200, 'd':400}\n",
    "### Sample output: Counter({'a': 400, 'b': 400, 'd': 400, 'c': 300})\n"
   ]
  },
  {
   "cell_type": "code",
   "execution_count": 39,
   "metadata": {},
   "outputs": [
    {
     "name": "stdout",
     "output_type": "stream",
     "text": [
      "{'a': 400, 'b': 400, 'c': 300, 'd': 400}\n"
     ]
    }
   ],
   "source": [
    "d1 = {'a': 100, 'b': 200, 'c': 300}\n",
    "d2 = {'a': 300, 'b': 200, 'd': 400}\n",
    "for i in d2 :\n",
    "    if i in d1 :\n",
    "        d1[ i ] = d1[ i ] +d2[ i ]\n",
    "    else :\n",
    "        d1[ i ] = d2[ i ]\n",
    "print(d1)\n"
   ]
  },
  {
   "cell_type": "markdown",
   "metadata": {},
   "source": [
    "### Ques 3.Write a Python program to convert a tuple to a string."
   ]
  },
  {
   "cell_type": "code",
   "execution_count": 40,
   "metadata": {},
   "outputs": [
    {
     "name": "stdout",
     "output_type": "stream",
     "text": [
      "vikash\n"
     ]
    }
   ],
   "source": [
    "t = ('v', 'i', 'k', 'a', 's', 'h')\n",
    "\n",
    "str = ''.join(t)\n",
    "\n",
    "print(str)"
   ]
  },
  {
   "cell_type": "markdown",
   "metadata": {},
   "source": [
    "### Ques 4.Write a Python program to remove item(s) from set"
   ]
  },
  {
   "cell_type": "code",
   "execution_count": 6,
   "metadata": {},
   "outputs": [
    {
     "name": "stdout",
     "output_type": "stream",
     "text": [
      "Original set:\n",
      "{0, 1, 3, 4, 5}\n",
      "\n",
      "After removing the first element from the said set:\n",
      "{1, 3, 4, 5}\n"
     ]
    }
   ],
   "source": [
    "num = set([0, 1, 3, 4, 5])\n",
    "print(\"Original set:\")\n",
    "print(num)\n",
    "num.pop()\n",
    "print(\"\\nAfter removing the first element from the said set:\")\n",
    "print(num)"
   ]
  },
  {
   "cell_type": "markdown",
   "metadata": {},
   "source": [
    "### Ques 5. Write a Python program to create a symmetric difference"
   ]
  },
  {
   "cell_type": "code",
   "execution_count": 7,
   "metadata": {},
   "outputs": [
    {
     "name": "stdout",
     "output_type": "stream",
     "text": [
      "{1, 2, 3, 5, 6, 7}\n"
     ]
    }
   ],
   "source": [
    "a={1, 2, 3, 4}\n",
    "b={4, 5, 6, 7}\n",
    "c=a.symmetric_difference(b)\n",
    "print(c)"
   ]
  },
  {
   "cell_type": "markdown",
   "metadata": {},
   "source": [
    "### Ques 6.Write a Python program to construct the following pattern, using a nested for loop.\n",
    "### *\n",
    "### *\n",
    "### *\n",
    "### *\n",
    "### *"
   ]
  },
  {
   "cell_type": "code",
   "execution_count": 8,
   "metadata": {},
   "outputs": [
    {
     "name": "stdout",
     "output_type": "stream",
     "text": [
      "\n",
      "*\n",
      "**\n",
      "***\n",
      "****\n",
      "*****\n",
      "******\n",
      "*****\n",
      "****\n",
      "***\n",
      "**\n",
      "*\n"
     ]
    }
   ],
   "source": [
    "n=6;\n",
    "for i in range(n):\n",
    "    for j in range(i):\n",
    "        print('*', end=\"\")\n",
    "    print('') \n",
    "for i in range(n, 0, -1):\n",
    "    for j in range(i):\n",
    "        print(\"*\" ,end=\"\")\n",
    "    print(\"\")    "
   ]
  },
  {
   "cell_type": "markdown",
   "metadata": {},
   "source": [
    "### Ques 7. Write a Python program to get the Fibonacci series between 0 to 50."
   ]
  },
  {
   "cell_type": "code",
   "execution_count": 9,
   "metadata": {},
   "outputs": [
    {
     "name": "stdout",
     "output_type": "stream",
     "text": [
      "fibonacci series between 0 to 50:\n",
      "1\n",
      "1\n",
      "2\n",
      "3\n",
      "5\n",
      "8\n",
      "13\n",
      "21\n",
      "34\n"
     ]
    }
   ],
   "source": [
    "a, b= 0,1\n",
    "c =a+b\n",
    "n =50\n",
    "print(\"fibonacci series between 0 to 50:\")\n",
    "while c<n:\n",
    "    print(c)\n",
    "    c =a+b\n",
    "    a =b\n",
    "    b =c"
   ]
  },
  {
   "cell_type": "code",
   "execution_count": null,
   "metadata": {},
   "outputs": [],
   "source": []
  }
 ],
 "metadata": {
  "kernelspec": {
   "display_name": "Python 3",
   "language": "python",
   "name": "python3"
  },
  "language_info": {
   "codemirror_mode": {
    "name": "ipython",
    "version": 3
   },
   "file_extension": ".py",
   "mimetype": "text/x-python",
   "name": "python",
   "nbconvert_exporter": "python",
   "pygments_lexer": "ipython3",
   "version": "3.7.6"
  }
 },
 "nbformat": 4,
 "nbformat_minor": 5
}
